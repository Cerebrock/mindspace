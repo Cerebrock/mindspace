{
 "cells": [
  {
   "cell_type": "code",
   "execution_count": 22,
   "metadata": {},
   "outputs": [],
   "source": [
    "import requests as rq\n",
    "import re"
   ]
  },
  {
   "cell_type": "code",
   "execution_count": 23,
   "metadata": {},
   "outputs": [
    {
     "name": "stdout",
     "output_type": "stream",
     "text": [
      "https://raw.githubusercontent.com/mazyvan/most-common-spanish-words/master/most-common-spanish-words.txt\n",
      "https://raw.githubusercontent.com/mazyvan/most-common-spanish-words/master/most-common-spanish-words-v1.txt\n",
      "https://raw.githubusercontent.com/mazyvan/most-common-spanish-words/master/most-common-spanish-words-v2.txt\n",
      "https://raw.githubusercontent.com/mazyvan/most-common-spanish-words/master/most-common-spanish-words-v3.txt\n",
      "https://raw.githubusercontent.com/mazyvan/most-common-spanish-words/master/most-common-spanish-words-v4.txt\n"
     ]
    }
   ],
   "source": [
    "words = set()\n",
    "add = ''\n",
    "for i in range(1, 6):\n",
    "    url = f\"https://raw.githubusercontent.com/mazyvan/most-common-spanish-words/master/most-common-spanish-words{add}.txt\"\n",
    "    add = '-v'+str(i)\n",
    "    print(url)\n",
    "    words = words ^ set(re.split('\\n|\\|', rq.get(url).text))"
   ]
  },
  {
   "cell_type": "code",
   "execution_count": 24,
   "metadata": {},
   "outputs": [],
   "source": [
    "url2 = 'https://github.com/javierarce/palabras/raw/master/listado-general.txt'\n",
    "words = words ^ set(rq.get(url2).text.split('\\n'))"
   ]
  },
  {
   "cell_type": "code",
   "execution_count": 26,
   "metadata": {},
   "outputs": [],
   "source": [
    "with open(r'C:\\Users\\mgrinberg\\Desktop\\disc c\\Investigación\\Neurocomp\\other\\analisis\\palabras.csv', 'w+') as out:\n",
    "    out.write(','.join(words))"
   ]
  }
 ],
 "metadata": {
  "kernelspec": {
   "display_name": "Python 3",
   "language": "python",
   "name": "python3"
  },
  "language_info": {
   "codemirror_mode": {
    "name": "ipython",
    "version": 3
   },
   "file_extension": ".py",
   "mimetype": "text/x-python",
   "name": "python",
   "nbconvert_exporter": "python",
   "pygments_lexer": "ipython3",
   "version": "3.6.0"
  }
 },
 "nbformat": 4,
 "nbformat_minor": 2
}
